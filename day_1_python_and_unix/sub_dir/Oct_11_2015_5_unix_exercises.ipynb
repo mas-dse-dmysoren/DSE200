{
 "cells": [
  {
   "cell_type": "markdown",
   "metadata": {},
   "source": [
    "### Excercise 1: reconstruct a file from segments."
   ]
  },
  {
   "cell_type": "markdown",
   "metadata": {},
   "source": [
    "Each of the files F* is a short segment of the original text file.\n",
    "\n",
    "The format of the file is `(n1: 5 char int),(n2: 5 char int),string`\n",
    "The string represents the content of the file in the range `[n1:n2]`\n",
    "\n",
    "Your task is to reconstruct the original file."
   ]
  },
  {
   "cell_type": "code",
   "execution_count": 5,
   "metadata": {
    "collapsed": false
   },
   "outputs": [
    {
     "name": "stdout",
     "output_type": "stream",
     "text": [
      "[Errno 2] No such file or directory: '../data/NLTK/Chopped/'\n",
      "/Users/Deepthi/Documents/DSE/dmysoren/DSE200/day_1_python_and_unix/sub_dir\n",
      "1_pregnancy_length_analysis.ipynb  Caesar.txt-e\r\n",
      "2_python_basics.ipynb              Ex1_Q2.csv\r\n",
      "3_python_basics_excercises.ipynb   Leonidas.txt\r\n",
      "4_unix,_sys,_and_os.ipynb          Leonidas.txt-e\r\n",
      "5_unix_exercises.ipynb             LockFile.md\r\n",
      "8queen.jpg                         kings.txt\r\n",
      "Caesar.txt\r\n"
     ]
    }
   ],
   "source": [
    "%cd ../data/NLTK/Chopped/\n",
    "!ls -F"
   ]
  },
  {
   "cell_type": "code",
   "execution_count": 11,
   "metadata": {
    "collapsed": false
   },
   "outputs": [],
   "source": [
    "# Create a list temp with contents of all the files\n",
    "temp = !cat F*\n",
    "\n",
    "# Create an empty list to append the contents of the file\n",
    "z1=[]\n",
    "\n",
    "\n",
    "# Run through the list 'temp' and fetch the position and string and append into z1\n",
    "for i in temp:\n",
    "    z=[int(i[0:5]),int(i[5:10]),i[10:]]\n",
    "    z1.append(z)\n",
    "\n",
    "# Sort z1 so that they are in the order of the position in which the string should be populated\n",
    "z3 = sorted(z1)\n",
    "\n",
    "# Extract the string from z3\n",
    "z4 = [x[2] for x in z3]\n",
    "\n",
    "# Insert space and create a complete string from the list 'z4'\n",
    "zz = ''.join(z4)\n",
    "\n",
    "# Write into the output txt file 'unix_q1.\n",
    "! echo $zz > unix_q1.txt\n",
    "\n",
    "# Note: The ouput is saved in the directory: ../data/NLTK/Chopped/"
   ]
  },
  {
   "cell_type": "markdown",
   "metadata": {},
   "source": [
    "### Excercise 2:"
   ]
  },
  {
   "cell_type": "code",
   "execution_count": null,
   "metadata": {
    "collapsed": false
   },
   "outputs": [],
   "source": [
    "#Issue a UNIX command to create a file called Caesar that contains the following lines (include the mistakes!!)\n",
    "\n",
    "Text = \"\"\"Caesar, a great general, is petitioned by several citizens to show clemency to one of his enemies.\n",
    "He declines, pompously speaking of himself in the third person. The group of conspirators then proceeds to stab him.\n",
    "With his dying breath he gasps, \"Et tu, Brute? (\"And you, Brutus?\") Thus falls Caesar.\" \n",
    "The conspirators exult, and Shakespeare inserts a self-referential joke as Cassius says, \n",
    "\"How many ages hence shall this our lofty scene be acted over in states unborn and accents yet unknown!\"\n",
    "\"\"\"\n",
    "\n",
    "#Change the permissions of this file to 666\n",
    "#Issue a UNIX command to determine the file type\n",
    "#Isue a uniix comannd to count the number of words in the above text that contains no vowels\n",
    "#Replace the word Caesar wherever it is found in the entire text to Leonidas\n",
    "#Make a copy of the above file without the first and last lines of the text and rename this file to Leonidas"
   ]
  },
  {
   "cell_type": "code",
   "execution_count": 8,
   "metadata": {
    "collapsed": false
   },
   "outputs": [
    {
     "name": "stdout",
     "output_type": "stream",
     "text": [
      "/Users/Deepthi/Documents/DSE/dmysoren/DSE200/day_1_python_and_unix\r\n"
     ]
    }
   ],
   "source": [
    "Text = \"\"\"Caesar, a great general, is petitioned by several citizens to show clemency to one of his enemies.\n",
    "He declines, pompously speaking of himself in the third person. The group of conspirators then proceeds to stab him.\n",
    "With his dying breath he gasps, \"Et tu, Brute? (\"And you, Brutus?\") Thus falls Caesar.\" \n",
    "The conspirators exult, and Shakespeare inserts a self-referential joke as Cassius says, \n",
    "\"How many ages hence shall this our lofty scene be acted over in states unborn and accents yet unknown!\"\n",
    "\"\"\"\n",
    "\n",
    "# Change the directory to '/Users/Deepthi/Documents/DSE/dmysoren/DSE200/day_1_python_and_unix'\n",
    "%cd ..\n",
    "\n",
    "# Check the current directory\n",
    "! pwd # Current directory is set to '/Users/Deepthi/Documents/DSE/dmysoren/DSE200/day_1_python_and_unix'\n"
   ]
  },
  {
   "cell_type": "code",
   "execution_count": 2,
   "metadata": {
    "collapsed": true
   },
   "outputs": [],
   "source": [
    "# To create a file 'Caesar.txt'\n",
    "! printf '$Text' > Caesar.txt"
   ]
  },
  {
   "cell_type": "code",
   "execution_count": 3,
   "metadata": {
    "collapsed": true
   },
   "outputs": [],
   "source": [
    "#Change the permissions of this file to 666\n",
    "!chmod 666 Caesar.txt"
   ]
  },
  {
   "cell_type": "code",
   "execution_count": 4,
   "metadata": {
    "collapsed": false
   },
   "outputs": [
    {
     "name": "stdout",
     "output_type": "stream",
     "text": [
      "Caesar.txt: ASCII English text\r\n"
     ]
    }
   ],
   "source": [
    "#Issue a UNIX command to determine the file type\n",
    "!file Caesar.txt"
   ]
  },
  {
   "cell_type": "code",
   "execution_count": 1,
   "metadata": {
    "collapsed": false
   },
   "outputs": [
    {
     "name": "stdout",
     "output_type": "stream",
     "text": [
      "       1\r\n"
     ]
    }
   ],
   "source": [
    "#Issue a unix command to count the number of words in the above text that contains no vowels\n",
    "!grep -io '\\b[^aeiou,.!?\"]*\\s' Caesar.txt | wc -w"
   ]
  },
  {
   "cell_type": "code",
   "execution_count": 5,
   "metadata": {
    "collapsed": true
   },
   "outputs": [],
   "source": [
    "#Replace the word Caesar wherever it is found in the entire text to Leonidas\n",
    "\n",
    "! sed -i -e 's/Caesar/Leonidas/g' Caesar.txt"
   ]
  },
  {
   "cell_type": "code",
   "execution_count": 6,
   "metadata": {
    "collapsed": true
   },
   "outputs": [],
   "source": [
    "#Make a copy of the above file without the first and last lines of the text and rename this file to Leonidas\n",
    "\n",
    "! cp Caesar.txt Leonidas.txt\n",
    "\n",
    "! sed -i -e '1d;$d' Leonidas.txt"
   ]
  },
  {
   "cell_type": "markdown",
   "metadata": {},
   "source": [
    "### Excercise 3:"
   ]
  },
  {
   "cell_type": "code",
   "execution_count": null,
   "metadata": {
    "collapsed": false
   },
   "outputs": [],
   "source": [
    "#What is the command to count lines,words and characters in a file and how do you make this comand display only linecount?\n",
    "#Also write a single command that lists the files in the current directory that begin with upper case letters"
   ]
  },
  {
   "cell_type": "code",
   "execution_count": 9,
   "metadata": {
    "collapsed": false
   },
   "outputs": [
    {
     "name": "stdout",
     "output_type": "stream",
     "text": [
      "       1       1     392 Ex1_Q2.csv\r\n"
     ]
    }
   ],
   "source": [
    "# Command to display lines, words and characters in a file 'temp.csv' \n",
    "!wc Ex1_Q2.csv"
   ]
  },
  {
   "cell_type": "code",
   "execution_count": 10,
   "metadata": {
    "collapsed": false
   },
   "outputs": [
    {
     "name": "stdout",
     "output_type": "stream",
     "text": [
      "       1\r\n"
     ]
    }
   ],
   "source": [
    "# To display only line counts\n",
    "!cat Ex1_Q2.csv | wc -l"
   ]
  },
  {
   "cell_type": "code",
   "execution_count": 11,
   "metadata": {
    "collapsed": false
   },
   "outputs": [
    {
     "name": "stdout",
     "output_type": "stream",
     "text": [
      "Caesar.txt\r\n",
      "Caesar.txt-e\r\n",
      "Ex1_Q2.csv\r\n",
      "Leonidas.txt\r\n",
      "Leonidas.txt-e\r\n",
      "LockFile.md\r\n"
     ]
    }
   ],
   "source": [
    "#To list the files in the current directory that begin with upper case letters\n",
    "!ls -a|grep '^[A-Z]'"
   ]
  },
  {
   "cell_type": "markdown",
   "metadata": {},
   "source": [
    "### Excercise 4:"
   ]
  },
  {
   "cell_type": "code",
   "execution_count": null,
   "metadata": {
    "collapsed": false
   },
   "outputs": [],
   "source": [
    "#Combine the files Caesar and Leonidas and save the combined file as kings\n",
    "#Display the contents of this file using more command\n",
    "#Sort this file in reverse alphabetic order and display it by piping it into more"
   ]
  },
  {
   "cell_type": "code",
   "execution_count": 12,
   "metadata": {
    "collapsed": true
   },
   "outputs": [],
   "source": [
    "# Combine Caesar.txt and Leonidas.txt\n",
    "! cat Caesar.txt Leonidas.txt > kings.txt"
   ]
  },
  {
   "cell_type": "code",
   "execution_count": 13,
   "metadata": {
    "collapsed": false
   },
   "outputs": [
    {
     "name": "stdout",
     "output_type": "stream",
     "text": [
      "\u001b[?1h\u001b=Leonidas, a great general, is petitioned by several citizens to show clemency to one of his enemies.\r\n",
      "He declines, pompously speaking of himself in the third person. The group of conspirators then proceeds to stab him.\r\n",
      "With his dying breath he gasps, \"Et tu, Brute? (\"And you, Brutus?\") Thus falls Leonidas.\" \r\n",
      "The conspirators exult, and Shakespeare inserts a self-referential joke as Cassius says, \r\n",
      "\"How many ages hence shall this our lofty scene be acted over in states unborn and accents yet unknown!\"\r\n",
      "He declines, pompously speaking of himself in the third person. The group of conspirators then proceeds to stab him.\r\n",
      "With his dying breath he gasps, \"Et tu, Brute? (\"And you, Brutus?\") Thus falls Leonidas.\" \r\n",
      "The conspirators exult, and Shakespeare inserts a self-referential joke as Cassius says, \r\n",
      "\r",
      "\u001b[K\u001b[?1l\u001b>"
     ]
    }
   ],
   "source": [
    "# Display the contents of the file kings.txt\n",
    "! more kings.txt"
   ]
  },
  {
   "cell_type": "code",
   "execution_count": null,
   "metadata": {
    "collapsed": false
   },
   "outputs": [
    {
     "name": "stdout",
     "output_type": "stream",
     "text": [
      "\u001b[?1h\u001b=you,\r\n",
      "you,\r\n",
      "yet\r\n",
      "unknown!\"\r\n",
      "unborn\r\n",
      "tu,\r\n",
      "tu,\r\n",
      "to\r\n",
      "to\r\n",
      "to\r\n",
      "to\r\n",
      "this\r\n",
      "third\r\n",
      "third\r\n",
      "then\r\n",
      "then\r\n",
      "the\r\n",
      "the\r\n",
      "states\r\n",
      "stab\r\n",
      "stab\r\n",
      "speaking\r\n",
      "speaking\r\n",
      ":\u001b[K"
     ]
    }
   ],
   "source": [
    "# Sort the words in the file in reverse alphabetical order ad display it by piping it into more\n",
    "! cat kings.txt | tr -s \" \" \"\\n\" | sort -r | more"
   ]
  },
  {
   "cell_type": "markdown",
   "metadata": {},
   "source": [
    "### Excercise 5:"
   ]
  },
  {
   "cell_type": "code",
   "execution_count": null,
   "metadata": {
    "collapsed": false
   },
   "outputs": [],
   "source": [
    "#List all files in your current directory. Make a subDirectory and copy all these files in the subdirectory.\n",
    "#Write Unix commands to rename all the files to the format - currentDate_originalname"
   ]
  },
  {
   "cell_type": "code",
   "execution_count": 1,
   "metadata": {
    "collapsed": false
   },
   "outputs": [
    {
     "name": "stdout",
     "output_type": "stream",
     "text": [
      "1_pregnancy_length_analysis.ipynb Caesar.txt-e\r\n",
      "2_python_basics.ipynb             Ex1_Q2.csv\r\n",
      "3_python_basics_excercises.ipynb  Leonidas.txt\r\n",
      "4_unix,_sys,_and_os.ipynb         Leonidas.txt-e\r\n",
      "5_unix_exercises.ipynb            LockFile.md\r\n",
      "8queen.jpg                        \u001b[34mcp_day_1_python_and_unix\u001b[m\u001b[m\r\n",
      "CPU_time.txt                      kings.txt\r\n",
      "Caesar.txt                        \u001b[34msub_dir\u001b[m\u001b[m\r\n"
     ]
    }
   ],
   "source": [
    "# List the files in the current directory\n",
    "!ls "
   ]
  },
  {
   "cell_type": "code",
   "execution_count": 10,
   "metadata": {
    "collapsed": true
   },
   "outputs": [],
   "source": [
    "# Make a subdirectory named sub_dir\n",
    "!mkdir sub_dir"
   ]
  },
  {
   "cell_type": "code",
   "execution_count": 11,
   "metadata": {
    "collapsed": false
   },
   "outputs": [
    {
     "name": "stdout",
     "output_type": "stream",
     "text": [
      "cp: cp_day_1_python_and_unix is a directory (not copied).\r\n",
      "cp: sub_dir is a directory (not copied).\r\n"
     ]
    }
   ],
   "source": [
    "#Copy all the files into subdirectory (all files except the sub_dir itself will be copied)\n",
    "!cp * sub_dir"
   ]
  },
  {
   "cell_type": "code",
   "execution_count": 12,
   "metadata": {
    "collapsed": false
   },
   "outputs": [
    {
     "name": "stdout",
     "output_type": "stream",
     "text": [
      "/Users/Deepthi/Documents/DSE/dmysoren/DSE200/day_1_python_and_unix/sub_dir\n"
     ]
    }
   ],
   "source": [
    "#Change command directory to sub_dir\n",
    "%cd ~/Documents/DSE/dmysoren/DSE200/day_1_python_and_unix/sub_dir/"
   ]
  },
  {
   "cell_type": "code",
   "execution_count": 13,
   "metadata": {
    "collapsed": false
   },
   "outputs": [
    {
     "name": "stdout",
     "output_type": "stream",
     "text": [
      "/bin/sh: -c: line 1: syntax error: unexpected end of file\r\n"
     ]
    }
   ],
   "source": [
    "# Rename the file as currentDate_originalname\n",
    "!for fname in *; do mv \"$fname\" \"$(date +%b)_$(date +%d)_$(date +%Y)\"_\"$fname\";\n",
    "\n"
   ]
  },
  {
   "cell_type": "markdown",
   "metadata": {},
   "source": [
    "### Excercise 6:"
   ]
  },
  {
   "cell_type": "code",
   "execution_count": 9,
   "metadata": {
    "collapsed": false
   },
   "outputs": [],
   "source": [
    "#Suppose we have a script that performs numerous efficiency tests. \n",
    "#The output from the script contains lots of information, but our purpose now is to extract information\n",
    "#about the CPU time of each test and sort these CPU times. The output from the tests takes the following form:\n",
    "output = \"\"\"\n",
    "f95 -c -O0  versions/main_wIO.f F77WAVE.f\n",
    "f95 -o app  -static main_wIO.o F77WAVE.o   -lf2c\n",
    "app < input > tmp.out\n",
    "CPU-time: 255.97   f95 -O0 formatted I/O\n",
    "f95 -c -O1  versions/main_wIO.f F77WAVE.f\n",
    "f95 -o app  -static main_wIO.o F77WAVE.o   -lf2c\n",
    "app < input > tmp.out\n",
    "CPU-time: 252.47   f95 -O1 formatted I/O\n",
    "f95 -c -O2  versions/main_wIO.f F77WAVE.f\n",
    "f95 -o app  -static main_wIO.o F77WAVE.o   -lf2c\n",
    "app < input > tmp.out\n",
    "CPU-time: 252.40   f95 -O2 formatted I/O\n",
    "f95 -c -O3  versions/main_wIO.f F77WAVE.f\n",
    "f95 -o app  -static main_wIO.o F77WAVE.o   -lf2c\n",
    "app < input > tmp.out\n",
    "CPU-time: 255.28   f95 -O0 formatted I/O\n",
    "f95 -c -O4  versions/main_wIO.f F77WAVE.f\n",
    "f95 -o app  -static main_wIO.o F77WAVE.o   -lf2c\n",
    "app < input > tmp.out\n",
    "CPU-time: 251.43  f95 -O0 formatted I/O\n",
    "f95 -c -O5  versions/main_wIO.f F77WAVE.f\n",
    "f95 -o app  -static main_wIO.o F77WAVE.o   -lf2c\n",
    "app < input > tmp.out\n",
    "CPU-time: 255.90   f95 -O0 formatted I/O\n",
    "f95 -c -O6  versions/main_wIO.f F77WAVE.f\n",
    "f95 -o app  -static main_wIO.o F77WAVE.o   -lf2c\n",
    "app < input > tmp.out\n",
    "CPU-time: 252.15   f95 -O0 formatted I/O\n",
    "\"\"\"\n",
    "\n",
    "#First we need to extract the lines starting with CPU-time. \n",
    "#Then we need to sort the extracted lines with respect to the CPU time, which is the number appearing in the second column. \n",
    "#Write a script to accomplish this task. \n",
    "\n",
    "#Hint: Find the lines with CPU time results by using a string comparison of the first 7 characters \n",
    "#to detect the keyword CPU-time. Then write a tailored sort function for sorting two lines \n",
    "#(extract the CPU time from the second column in both lines and compare the CPU times as floating-point numbers). \n",
    "#A tailored sort function takes two arguments a and b, which hold two list elements. \n",
    "#The sort function returns -1 if a is less than b, 1 if a is greater than b, and 0 otherwise (a equals b)."
   ]
  },
  {
   "cell_type": "code",
   "execution_count": 10,
   "metadata": {
    "collapsed": false
   },
   "outputs": [
    {
     "name": "stdout",
     "output_type": "stream",
     "text": [
      "[251.43, 252.15, 252.4, 252.47, 255.28, 255.9, 255.97]\n"
     ]
    }
   ],
   "source": [
    "\n",
    "# Write the output into a file CPU_time.txt\n",
    "! printf '$output' -> CPU_time.txt\n",
    "\n",
    "# Create a search string\n",
    "string='CPU-time'\n",
    "\n",
    "# Search for the search string\n",
    "cpu_time = ! grep $string CPU_time.txt \n",
    "\n",
    "# Extract CPU time\n",
    "cpu_time2 = [float(i[9:16]) for i in cpu_time]\n",
    "\n",
    "# Tailored sort function\n",
    "def sort(a,b):\n",
    "    if a>b:\n",
    "        return 1\n",
    "    elif b>a:\n",
    "        return -1\n",
    "    else:\n",
    "        return 0\n",
    "\n",
    "    \n",
    "# the tailored function is used to sort the functions    \n",
    "for j in range(len(cpu_time2)-1,0,-1):\n",
    "    for i in range(j):\n",
    "        if sort(cpu_time2[i],cpu_time2[i+1]) ==1:\n",
    "            temp = cpu_time2[i]\n",
    "            cpu_time2[i] = cpu_time2[i+1]\n",
    "            cpu_time2[i+1] = temp\n",
    "\n",
    "print cpu_time2            \n",
    "\n",
    "\n"
   ]
  },
  {
   "cell_type": "markdown",
   "metadata": {},
   "source": [
    "### Excercise 7:"
   ]
  },
  {
   "cell_type": "code",
   "execution_count": null,
   "metadata": {
    "collapsed": false
   },
   "outputs": [],
   "source": [
    "#Make a copy of your working directory along with its subdirectories and \n",
    "#write unix+python commands that traverses the copied working directory and its subdirectories (recursively) and returns a \n",
    "#list of all files that are larger than X Mb and that have not been accessed the last Y days, \n",
    "#where X and Y are passed as user inputs.\n",
    "#Include an option in this function that moves the files to a subdirectory trash under /tmp \n",
    "#(you need to create trash if it does not exist)."
   ]
  },
  {
   "cell_type": "code",
   "execution_count": 11,
   "metadata": {
    "collapsed": false
   },
   "outputs": [
    {
     "name": "stdout",
     "output_type": "stream",
     "text": [
      "cp: cp_day_1_python_and_unix is a directory (not copied).\r\n",
      "cp: sub_dir is a directory (not copied).\r\n"
     ]
    }
   ],
   "source": [
    "# Make a copy of working directory along with its subdirectories (the new directory cp_day_1_python_and_unix itself will not be copied)\n",
    "\n",
    "! mkdir cp_day_1_python_and_unix\n",
    "! cp * cp_day_1_python_and_unix\n"
   ]
  },
  {
   "cell_type": "code",
   "execution_count": 17,
   "metadata": {
    "collapsed": false
   },
   "outputs": [
    {
     "name": "stdout",
     "output_type": "stream",
     "text": [
      "/Users/Deepthi/Documents/DSE/dmysoren/DSE200/day_1_python_and_unix/cp_day_1_python_and_unix\n"
     ]
    }
   ],
   "source": [
    "# Traverse through the copied working directory and its subdirectories and return a list of all files that are larger\n",
    "# than X Mb and that have not been accessed in last Y days\n",
    "\n",
    "%cd ~/Documents/DSE/dmysoren/DSE200/day_1_python_and_unix/cp_day_1_python_and_unix/\n",
    "\n",
    "\n"
   ]
  },
  {
   "cell_type": "code",
   "execution_count": 20,
   "metadata": {
    "collapsed": true
   },
   "outputs": [],
   "source": [
    "x=1\n",
    "y=1\n",
    "\n",
    "! find . -size +\"$x\"M  -mtime +\"$y\"\n",
    "\n",
    "# Note that this piece of code didn't return any values as all the files under /cp_day_1_python_and_unix are smaller than 1 MB\n",
    "# and all the files were access today"
   ]
  },
  {
   "cell_type": "code",
   "execution_count": null,
   "metadata": {
    "collapsed": true
   },
   "outputs": [],
   "source": [
    "#Include an option in this function that moves the files to a subdirectory trash under /tmp \n",
    "#(you need to create trash if it does not exist)."
   ]
  }
 ],
 "metadata": {
  "kernelspec": {
   "display_name": "Python 2",
   "language": "python",
   "name": "python2"
  },
  "language_info": {
   "codemirror_mode": {
    "name": "ipython",
    "version": 2
   },
   "file_extension": ".py",
   "mimetype": "text/x-python",
   "name": "python",
   "nbconvert_exporter": "python",
   "pygments_lexer": "ipython2",
   "version": "2.7.10"
  }
 },
 "nbformat": 4,
 "nbformat_minor": 0
}
