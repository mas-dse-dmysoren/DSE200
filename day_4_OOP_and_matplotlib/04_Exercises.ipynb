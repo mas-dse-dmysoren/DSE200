{
 "cells": [
  {
   "cell_type": "markdown",
   "metadata": {},
   "source": [
    "# Lecture4 Exercises"
   ]
  },
  {
   "cell_type": "markdown",
   "metadata": {},
   "source": [
    "##Functional Programming\n",
    "\n",
    "Use the [map](https://docs.python.org/2/library/functions.html#map) and [filter](https://docs.python.org/2/library/functions.html#filter) functions to convert the list `l = [0,1,2,3,4,5,6,7,8,9,10]` into a list of the squares of the even numbers in `l`.\n",
    "\n",
    "Hints:\n",
    "\n",
    "1. Use map() to apply a function to each element in the list\n",
    "2. Use filter() to filter elements of a list\n",
    "3. Use lambda to define anonymous functions\n",
    "4. *Do not* use list comprehensions"
   ]
  },
  {
   "cell_type": "code",
   "execution_count": 17,
   "metadata": {
    "collapsed": false
   },
   "outputs": [
    {
     "name": "stdout",
     "output_type": "stream",
     "text": [
      "[0, 4, 16, 36, 64, 100]\n"
     ]
    }
   ],
   "source": [
    "l = [0,1,2,3,4,5,6,7,8,9,10]\n",
    "\n",
    "## Using map and filter functions\n",
    "squares = map(lambda i: i**2,filter(lambda x: x % 2 == 0 ,l))\n",
    "\n",
    "print squares\n"
   ]
  },
  {
   "cell_type": "markdown",
   "metadata": {},
   "source": [
    "### Object Oriented Programming"
   ]
  },
  {
   "cell_type": "markdown",
   "metadata": {},
   "source": [
    "Implement a Python iterator which iterates over string characters (ASCII only) returning their ASCII code\n",
    "\n",
    "1. Define a new iterator class which contains two methods:\n",
    "    -init – a constructor taking the ASCII string as a argument,\n",
    "    -next – returns the ASCII code of the next character or raises a StopIteration exception if the string end was encountered.\n",
    "\n",
    "2. Define a new iterable class which wraps around a string and contains iter method which returns the iterator instance.\n",
    "3. Test your code using explicit calls of next method (see example in the lecture) and for loop."
   ]
  },
  {
   "cell_type": "code",
   "execution_count": 18,
   "metadata": {
    "collapsed": false
   },
   "outputs": [],
   "source": [
    "### Define a new iterator class which contains two methods: -init – a constructor taking the ASCII string as a \n",
    "### argument, -next – returns the ASCII code of the next character or raises a StopIteration exception if the \n",
    "### string end was encountered.\n",
    "\n",
    "## Parent\n",
    "class StringIterator:\n",
    "    def __init__(self, string):\n",
    "        if isinstance(string,str):            \n",
    "            self.string = string\n",
    "            self.i = 0\n",
    "            self.n = len(self.string)\n",
    "        else:\n",
    "            raise ValueError('not a string')\n",
    " \n",
    "    \n",
    "    def next(self):\n",
    "        if self.i < self.n:\n",
    "            i=self.i\n",
    "            self.i+=1\n",
    "            ## This condition is used to check the ASCII code limit\n",
    "            if ord(self.string[i]) < 255: \n",
    "                ## Adding 1 to the ascii value. This is because the question says 'return \n",
    "                ## ASCII code of the next character'. See example for details\n",
    "                return ord(self.string[i])+1 \n",
    "            else:\n",
    "                return 0\n",
    "        else:\n",
    "            raise StopIteration()\n",
    "        \n",
    "\n",
    "### Define a new iterable class which wraps around a string and contains iter method which returns the iterator instance.\n",
    "\n",
    "## Child - Wrapper\n",
    "class StringIterable:\n",
    "    def __init__(self,string):\n",
    "        self.obj = StringIterator(string)\n",
    "        \n",
    "    def __iter__(self):\n",
    "        return self.obj"
   ]
  },
  {
   "cell_type": "code",
   "execution_count": 19,
   "metadata": {
    "collapsed": false
   },
   "outputs": [
    {
     "name": "stdout",
     "output_type": "stream",
     "text": [
      "98\n",
      "99\n",
      "The third instance will raise StopIteration exception as follows: \n",
      "\n"
     ]
    },
    {
     "ename": "StopIteration",
     "evalue": "",
     "output_type": "error",
     "traceback": [
      "\u001b[0;31m---------------------------------------------------------------------------\u001b[0m",
      "\u001b[0;31mStopIteration\u001b[0m                             Traceback (most recent call last)",
      "\u001b[0;32m<ipython-input-19-b37f29bfdfdc>\u001b[0m in \u001b[0;36m<module>\u001b[0;34m()\u001b[0m\n\u001b[1;32m     10\u001b[0m \u001b[0;32mprint\u001b[0m \u001b[0my\u001b[0m\u001b[0;34m.\u001b[0m\u001b[0m__iter__\u001b[0m\u001b[0;34m(\u001b[0m\u001b[0;34m)\u001b[0m\u001b[0;34m.\u001b[0m\u001b[0mnext\u001b[0m\u001b[0;34m(\u001b[0m\u001b[0;34m)\u001b[0m\u001b[0;34m\u001b[0m\u001b[0m\n\u001b[1;32m     11\u001b[0m \u001b[0;32mprint\u001b[0m \u001b[0;34m\"The third instance will raise StopIteration exception as follows:\"\u001b[0m\u001b[0;34m,\u001b[0m \u001b[0;34m'\\n'\u001b[0m\u001b[0;34m\u001b[0m\u001b[0m\n\u001b[0;32m---> 12\u001b[0;31m \u001b[0;32mprint\u001b[0m \u001b[0my\u001b[0m\u001b[0;34m.\u001b[0m\u001b[0m__iter__\u001b[0m\u001b[0;34m(\u001b[0m\u001b[0;34m)\u001b[0m\u001b[0;34m.\u001b[0m\u001b[0mnext\u001b[0m\u001b[0;34m(\u001b[0m\u001b[0;34m)\u001b[0m\u001b[0;34m\u001b[0m\u001b[0m\n\u001b[0m",
      "\u001b[0;32m<ipython-input-18-6d04e9cf9928>\u001b[0m in \u001b[0;36mnext\u001b[0;34m(self)\u001b[0m\n\u001b[1;32m     26\u001b[0m                 \u001b[0;32mreturn\u001b[0m \u001b[0;36m0\u001b[0m\u001b[0;34m\u001b[0m\u001b[0m\n\u001b[1;32m     27\u001b[0m         \u001b[0;32melse\u001b[0m\u001b[0;34m:\u001b[0m\u001b[0;34m\u001b[0m\u001b[0m\n\u001b[0;32m---> 28\u001b[0;31m             \u001b[0;32mraise\u001b[0m \u001b[0mStopIteration\u001b[0m\u001b[0;34m(\u001b[0m\u001b[0;34m)\u001b[0m\u001b[0;34m\u001b[0m\u001b[0m\n\u001b[0m\u001b[1;32m     29\u001b[0m \u001b[0;34m\u001b[0m\u001b[0m\n\u001b[1;32m     30\u001b[0m \u001b[0;34m\u001b[0m\u001b[0m\n",
      "\u001b[0;31mStopIteration\u001b[0m: "
     ]
    }
   ],
   "source": [
    "### Test \n",
    "\n",
    "y = StringIterable('ab') ## Input string is 'ab'\n",
    "\n",
    "## First character is 'a' its ASCII value is 97 but since we need to return ASCII code of next character\n",
    "## returning 98 which is the ASCII code for 'b'\n",
    "print y.__iter__().next()\n",
    "## Second character is 'b' its ASCII value is 98 but since we need to return the ASCII code for next character\n",
    "## returning 99 which is the ASCII code for 'c'\n",
    "print y.__iter__().next()\n",
    "print \"The third instance will raise StopIteration exception as follows:\", '\\n'\n",
    "print y.__iter__().next()"
   ]
  },
  {
   "cell_type": "markdown",
   "metadata": {},
   "source": [
    "##Fibonacci Sequence\n",
    "\n",
    "write a class Fibonacci whose constructor takes two numbers; the class uses these two numbers as the first two numbers in the sequence. \n",
    "\n",
    "1. The class should have a method calculate(n) that returns the n-th number in the sequence.\n",
    "2. Add a method next(). The first call to next() returns the first number in the sequence, the second call returns the second number, and so on. You'll need instance variables to save state between calls. \n",
    "3. Finally, add a method writeToFile(n, filename), that writes the first n numbers in the sequence to the file named filename, one number per line.\n",
    "\n",
    "**HINT:** you should store previously computed fibonachi numbers instead of recomputing every one as they are needed"
   ]
  },
  {
   "cell_type": "code",
   "execution_count": 20,
   "metadata": {
    "collapsed": false
   },
   "outputs": [],
   "source": [
    "## Creating a class to calculate Fibonacci series\n",
    "\n",
    "class Fibonacci:\n",
    "    def __init__(self, first, second):\n",
    "        if isinstance(first,int): ## Check if the first input is an int\n",
    "            if isinstance(second,int): ## Check if the second input is an int\n",
    "                self.n = 0 \n",
    "                self.first = first\n",
    "                self.second = second\n",
    "                self.fibs = {first,second}\n",
    "            else:\n",
    "                raise ValueError('Second input is not an int') ## Raise ValueError \n",
    "        else:\n",
    "            raise ValueError('First input is not an int') ## Raise ValueError\n",
    "    \n",
    "    def next(self):\n",
    "        x = self.calculate(self.n)\n",
    "        self.n += 1\n",
    "        return x\n",
    "                \n",
    "    def calculate(self, n):\n",
    "        a,b = self.first, self.second\n",
    "        for i in range(n):\n",
    "            a,b = b,a+b\n",
    "            self.fibs.add(a)\n",
    "        return a\n",
    "        \n",
    "    def writeToFile(self, n, filename):\n",
    "        self.calculate(n)\n",
    "        with open(filename, 'w') as f:\n",
    "            f.write(str(sorted(self.fibs)[:n]))\n",
    "        "
   ]
  },
  {
   "cell_type": "code",
   "execution_count": 21,
   "metadata": {
    "collapsed": false
   },
   "outputs": [
    {
     "name": "stdout",
     "output_type": "stream",
     "text": [
      "True\n",
      "True\n",
      "True\n",
      "True\n",
      "True\n",
      "True\n",
      "True\n",
      "True\n"
     ]
    }
   ],
   "source": [
    "#Testing code, should all equal print true\n",
    "fib = Fibonacci(0,1)\n",
    "\n",
    "print fib.calculate(0) == 0\n",
    "print fib.calculate(1) == 1\n",
    "print fib.calculate(2) == 1\n",
    "print fib.calculate(3) == 2\n",
    "print fib.calculate(20) == 6765 \n",
    "print fib.next() == fib.calculate(0)\n",
    "print fib.next() == fib.calculate(1)\n",
    "print fib.next() == fib.calculate(2)\n",
    "fib.writeToFile(30, \"fib.out\")"
   ]
  },
  {
   "cell_type": "markdown",
   "metadata": {},
   "source": [
    "Write a function solve(h,l) which solves the folowing classic puzzle:\n",
    "We count h heads and l legs among the chickens and rabbits in a farm. How many rabbits and how many chickens do we have? where h and l are the parameters passed to the function solve\n",
    ">> numheads=35\n",
    ">> numlegs=94\n",
    ">> solutions=solve(numheads,numlegs)\n",
    ">> print solutions"
   ]
  },
  {
   "cell_type": "code",
   "execution_count": 26,
   "metadata": {
    "collapsed": false
   },
   "outputs": [
    {
     "name": "stdout",
     "output_type": "stream",
     "text": [
      "number of rabbits =  12\n",
      "number of chickens =  23\n"
     ]
    }
   ],
   "source": [
    "##### Include condition to check if the number is an integer\n",
    "\n",
    "import numpy as np\n",
    "\n",
    "## Solving a set of equations using matrix multiplication\n",
    "## Equation for heads: r + c = 35\n",
    "## Equation for legs : 4r + 2c = 94\n",
    "\n",
    "def solve(h,l):\n",
    "    mat1 = np.array([[1,1],[4,2]])\n",
    "    h_l = np.array([h,l])\n",
    "    x = np.linalg.solve(mat1, h_l)\n",
    "    if x[0] >= 0:\n",
    "        print 'number of rabbits = ', int(x[0])\n",
    "        if x[1] >= 0:\n",
    "            print 'number of chickens = ', int(x[1])\n",
    "        else:\n",
    "            print 'No solutions'\n",
    "    else:\n",
    "        print 'No solutions'\n",
    "    \n",
    "    \n",
    "solve(35,94)\n",
    "    "
   ]
  }
 ],
 "metadata": {
  "kernelspec": {
   "display_name": "Python 2",
   "language": "python",
   "name": "python2"
  },
  "language_info": {
   "codemirror_mode": {
    "name": "ipython",
    "version": 2
   },
   "file_extension": ".py",
   "mimetype": "text/x-python",
   "name": "python",
   "nbconvert_exporter": "python",
   "pygments_lexer": "ipython2",
   "version": "2.7.10"
  }
 },
 "nbformat": 4,
 "nbformat_minor": 0
}
